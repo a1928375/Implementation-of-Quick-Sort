{
 "cells": [
  {
   "cell_type": "markdown",
   "metadata": {},
   "source": [
    "# Mine"
   ]
  },
  {
   "cell_type": "code",
   "execution_count": null,
   "metadata": {},
   "outputs": [],
   "source": []
  },
  {
   "cell_type": "code",
   "execution_count": 36,
   "metadata": {},
   "outputs": [],
   "source": [
    "def quick_sort(arr, first, last):    \n",
    "    \n",
    "    if first<last:\n",
    "        \n",
    "        splitpoint = partition(arr, first, last)    # ppartition實際執行shift\n",
    "\n",
    "        quick_sort(arr, first, splitpoint-1)        #這裡的recursive calls都是在執行分組\n",
    "        quick_sort(arr, splitpoint+1, last)\n",
    "        \n",
    "    return arr\n",
    "\n",
    "def partition(arr, first, last):\n",
    "    \n",
    "    pivot = arr[first]                              # 1st element為pivot\n",
    "\n",
    "    leftmark = first+1                              # leftmark從pivot + 1開始\n",
    "    rightmark = last                                # rightmark是分組的最右element\n",
    "\n",
    "    done = False                                    #判定leftmark & rightmark的cross \n",
    "    \n",
    "    while not done:\n",
    "\n",
    "        while leftmark <= rightmark and arr[leftmark] <= pivot:     #在還沒cross前，leftmark找比pivot小的element (left => \n",
    "                                                                    #較小element)\n",
    "            \n",
    "            leftmark = leftmark + 1                                 #一直找到cross為止\n",
    "\n",
    "        while rightmark >= leftmark and pivot <= arr[rightmark]:    #在還沒cross前，rightmark找比pivot大的element (right => \n",
    "                                                                    #較大element)\n",
    "\n",
    "            rightmark = rightmark -1                                #一直找到cross為止\n",
    "\n",
    "        if rightmark < leftmark:                                    # cross => stop\n",
    "            \n",
    "            done = True\n",
    "            \n",
    "        else:                                                       #在還沒cross前，上面 2 小 while loops都run完 => 代表leftmark\n",
    "                                                                    #找不到更小的element   &    代表rightmark找不到更大的element \n",
    "                                                                    # => 所以就是unsorted => swap leftmark的值 & rightmark的值\n",
    "            temp = arr[leftmark]                                    #讓比pivot小的element在left   &   讓比pivot大的element在right\n",
    "            arr[leftmark] = arr[rightmark]\n",
    "            arr[rightmark] = temp\n",
    "\n",
    "    temp = arr[first]                                               # cross => 代表run完大while loop => 完成partial sort \n",
    "                                                                    # => 也就代表left比pivot小   &    代表right比pivot大 \n",
    "                                                                    # => swap pivot & rightmark的值，因為rightmark左邊的是比pivot\n",
    "                                                                    #小 & rightmark右邊的是比pivot小 => pivot應在中間\n",
    "    arr[first] = arr[rightmark]                                    \n",
    "    arr[rightmark] = temp                                           \n",
    "\n",
    "    return rightmark                                                # return rightmark => 也就是上一run的pivot位置 => 也就是\n",
    "                                                                    # splitpoint => 讓接下來的recursive calls可以知道哪裡已經被\n",
    "                                                                    # sorted (有可能是partial sorted => 所以接下來會有2 recursive\n",
    "                                                                    # calls => 1往左，1往右)"
   ]
  },
  {
   "cell_type": "code",
   "execution_count": 37,
   "metadata": {},
   "outputs": [
    {
     "name": "stdout",
     "output_type": "stream",
     "text": [
      "[1, 2, 3, 4, 4, 5, 6, 7, 11, 12]\n"
     ]
    }
   ],
   "source": [
    "arr = [2,5,4,6,7,3,1,4,12,11]\n",
    "print (quick_sort(arr, 0, len(arr)-1))"
   ]
  },
  {
   "cell_type": "markdown",
   "metadata": {},
   "source": [
    "# Quick sort with Memory intensive"
   ]
  },
  {
   "cell_type": "code",
   "execution_count": 34,
   "metadata": {},
   "outputs": [],
   "source": [
    "import random\n",
    "\n",
    "def quicksort_space(arr):\n",
    "    \n",
    "    if len(arr) <= 1:\n",
    "        \n",
    "        return arr\n",
    "    \n",
    "    else:\n",
    "        \n",
    "        pivot = arr[random.randint(0, len(arr)-1)]\n",
    "        \n",
    "        less, more = [], []\n",
    "        \n",
    "        for val in arr:\n",
    "            \n",
    "            if val < pivot:\n",
    "                \n",
    "                less.append(val)\n",
    "                \n",
    "            elif val > pivot:\n",
    "                \n",
    "                more.append(val)\n",
    "                \n",
    "        \n",
    "        return quicksort_space(less) + [pivot] + quicksort_space(more)\n",
    "    \n",
    "    return arr\n"
   ]
  },
  {
   "cell_type": "code",
   "execution_count": 35,
   "metadata": {},
   "outputs": [
    {
     "data": {
      "text/plain": [
       "[2, 3, 5, 6, 8]"
      ]
     },
     "execution_count": 35,
     "metadata": {},
     "output_type": "execute_result"
    }
   ],
   "source": [
    "arr = [2,5,3,6,8]\n",
    "\n",
    "quicksort_space(arr)"
   ]
  }
 ],
 "metadata": {
  "kernelspec": {
   "display_name": "Python 3",
   "language": "python",
   "name": "python3"
  },
  "language_info": {
   "codemirror_mode": {
    "name": "ipython",
    "version": 3
   },
   "file_extension": ".py",
   "mimetype": "text/x-python",
   "name": "python",
   "nbconvert_exporter": "python",
   "pygments_lexer": "ipython3",
   "version": "3.7.3"
  }
 },
 "nbformat": 4,
 "nbformat_minor": 2
}
